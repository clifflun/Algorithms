{
 "cells": [
  {
   "cell_type": "code",
   "execution_count": 7,
   "metadata": {},
   "outputs": [],
   "source": [
    "import random\n",
    "import numpy as np"
   ]
  },
  {
   "cell_type": "code",
   "execution_count": 8,
   "metadata": {},
   "outputs": [],
   "source": [
    "def merge(arr: list):\n",
    "    p = 0\n",
    "    q = len(arr)//2\n",
    "    r = len(arr)\n",
    "    L = arr[p:q]\n",
    "    R = arr[q:r]\n",
    "#     L.sort()\n",
    "#     R.sort()\n",
    "    i=0   \n",
    "    j=0\n",
    "    k=0\n",
    "    while i<len(L) and j<len(R):\n",
    "        if L[i] < R[j]:\n",
    "            arr[k] = L[i]\n",
    "            i+=1\n",
    "        else:\n",
    "            arr[k] = R[j]\n",
    "            j+=1\n",
    "        k+=1\n",
    "        \n",
    "    ##put back what is left in either L or R\n",
    "    while i<len(L):\n",
    "        arr[k] = L[i]\n",
    "        i+=1\n",
    "        k+=1\n",
    "    while j<len(R):\n",
    "        arr[k] = R[j]\n",
    "        j+=1\n",
    "        k+=1"
   ]
  },
  {
   "cell_type": "code",
   "execution_count": 9,
   "metadata": {},
   "outputs": [],
   "source": [
    "def merge_sort(arr: list):\n",
    "    if len(arr) > 1:\n",
    "        merge_sort(arr[:len(arr)//2])\n",
    "        merge_sort(arr[len(arr)//2:])\n",
    "        merge(arr)"
   ]
  },
  {
   "cell_type": "code",
   "execution_count": 10,
   "metadata": {},
   "outputs": [
    {
     "name": "stdout",
     "output_type": "stream",
     "text": [
      "[85, 72, 98, 10, 97, 18, 35, 28, 26, 2, 66, 63, 49, 94, 60, 58, 87, 17, 57, 78, 12, 52, 16, 30, 38, 69, 20, 21, 50, 90]\n",
      "[58, 85, 72, 87, 17, 57, 78, 12, 52, 16, 30, 38, 69, 20, 21, 50, 90, 98, 10, 97, 18, 35, 28, 26, 2, 66, 63, 49, 94, 60]\n"
     ]
    }
   ],
   "source": [
    "n = random.sample(range(100), 30)\n",
    "print(n)\n",
    "merge_sort(n)\n",
    "print(n)"
   ]
  },
  {
   "cell_type": "code",
   "execution_count": 49,
   "metadata": {},
   "outputs": [
    {
     "name": "stdout",
     "output_type": "stream",
     "text": [
      "909\n"
     ]
    }
   ],
   "source": [
    "n=[1,10,1000,100]\n",
    "fin =[]\n",
    "for i in range(0, len(n), 2):\n",
    "    tmp = []\n",
    "    tmp.append(n[i])\n",
    "    tmp.append(n[i+1])\n",
    "    fin.append(tmp)\n",
    "for i in range(0, len(fin), 2):\n",
    "    fin[i] = fin[i][::-1]\n",
    "\n",
    "sub1 = [i[0] for i in fin]\n",
    "sub2 = [i[1] for i in fin]\n",
    "\n",
    "diff = abs(sum(sub1)- sum(sub2))\n",
    "print(diff)"
   ]
  },
  {
   "cell_type": "code",
   "execution_count": 50,
   "metadata": {},
   "outputs": [],
   "source": [
    "for i in range(0, len(fin), 2):\n",
    "    fin[i] = fin[i][::-1]"
   ]
  },
  {
   "cell_type": "code",
   "execution_count": 51,
   "metadata": {},
   "outputs": [],
   "source": [
    "sub1 = [i[0] for i in fin]\n",
    "sub2 = [i[1] for i in fin]"
   ]
  },
  {
   "cell_type": "code",
   "execution_count": 52,
   "metadata": {},
   "outputs": [
    {
     "name": "stdout",
     "output_type": "stream",
     "text": [
      "891\n"
     ]
    }
   ],
   "source": [
    "diff = abs(sum(sub1)- sum(sub2))\n",
    "print(diff)"
   ]
  },
  {
   "cell_type": "code",
   "execution_count": 53,
   "metadata": {},
   "outputs": [
    {
     "name": "stdout",
     "output_type": "stream",
     "text": [
      "[1, 1000] [10, 100]\n"
     ]
    }
   ],
   "source": [
    "print(sub1, sub2)"
   ]
  },
  {
   "cell_type": "code",
   "execution_count": null,
   "metadata": {},
   "outputs": [],
   "source": []
  }
 ],
 "metadata": {
  "kernelspec": {
   "display_name": "Python 3",
   "language": "python",
   "name": "python3"
  },
  "language_info": {
   "codemirror_mode": {
    "name": "ipython",
    "version": 3
   },
   "file_extension": ".py",
   "mimetype": "text/x-python",
   "name": "python",
   "nbconvert_exporter": "python",
   "pygments_lexer": "ipython3",
   "version": "3.7.3"
  }
 },
 "nbformat": 4,
 "nbformat_minor": 2
}
