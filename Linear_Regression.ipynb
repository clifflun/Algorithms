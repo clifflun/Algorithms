{
 "cells": [
  {
   "cell_type": "code",
   "execution_count": 2,
   "metadata": {},
   "outputs": [],
   "source": [
    "import random\n",
    "import matplotlib.pyplot as plt\n",
    "import numpy as np\n",
    "import scipy.stats"
   ]
  },
  {
   "cell_type": "markdown",
   "metadata": {},
   "source": [
    "# Initializing random dataset"
   ]
  },
  {
   "cell_type": "code",
   "execution_count": 45,
   "metadata": {},
   "outputs": [],
   "source": [
    "x = [i for i in range(10)]\n",
    "y = [14, 16, 15, 18, 31, 26, 36, 32, 33, 37]\n",
    "# y = random.sample(range(50),10)"
   ]
  },
  {
   "cell_type": "markdown",
   "metadata": {},
   "source": [
    "# Adding abline function to make life easier"
   ]
  },
  {
   "cell_type": "code",
   "execution_count": 46,
   "metadata": {},
   "outputs": [],
   "source": [
    "def abline(slope, intercept):\n",
    "    axes = plt.gca()\n",
    "    x_vals = np.array(axes.get_xlim())\n",
    "    y_vals = intercept + slope * x_vals\n",
    "    plt.plot(x_vals, y_vals, '--')"
   ]
  },
  {
   "cell_type": "markdown",
   "metadata": {},
   "source": [
    "Plotting the data to see if a linear relationship is observed\n"
   ]
  },
  {
   "cell_type": "code",
   "execution_count": 47,
   "metadata": {},
   "outputs": [
    {
     "data": {
      "text/plain": [
       "(0.0, 50.0)"
      ]
     },
     "execution_count": 47,
     "metadata": {},
     "output_type": "execute_result"
    },
    {
     "data": {
      "image/png": "[encoded data removed]",
      "text/plain": [
       "<Figure size 432x288 with 1 Axes>"
      ]
     },
     "metadata": {
      "needs_background": "light"
     },
     "output_type": "display_data"
    }
   ],
   "source": [
    "plt.plot(x,y, 'o', )\n",
    "plt.xlim([-1,10])\n",
    "plt.ylim([0,50])"
   ]
  },
  {
   "cell_type": "markdown",
   "metadata": {},
   "source": [
    "We can see the linear relationship. The next step will be to calculate sum of least squares off different slope and y-intercepts of the following equation:\n",
    "\n",
    "$y=mx+c$\n",
    "\n",
    "\n",
    "where m=slope, c=y-int"
   ]
  },
  {
   "cell_type": "code",
   "execution_count": 48,
   "metadata": {},
   "outputs": [],
   "source": [
    "##This is the simplest way to get the best fit line\n",
    "##It calculates all the possible pairs of slope and intercept and find the least sum of square\n",
    "##A smarter implementation will be gradient descent, but that is another task for another time.\n",
    "\n",
    "def best_fit(x:list,y:list, startc:int = -20, startm:int = -20, step:float = 0.1):\n",
    "    \n",
    "    ##populating the least SS matrix\n",
    "    residuals = []\n",
    "    for m in np.arange(startm,startm*-1,step):\n",
    "        cres=[]\n",
    "        for c in np.arange(startc,startc*-1,step):       \n",
    "            ss=[]\n",
    "            for i,j in zip(x,y):\n",
    "                yval = m*i+c\n",
    "                dis = (j - yval)**2\n",
    "                ss.append(dis)\n",
    "            cres.append(sum(ss))\n",
    "        residuals.append(cres)\n",
    "    \n",
    "    ##using numpy to find Least SS\n",
    "    res = np.array(residuals)\n",
    "    minm = np.where(res == np.min(res))[0][0]\n",
    "    minc = np.where(res == np.min(res))[1][0]\n",
    "    minss = np.min(res)\n",
    "    ## best fit line parameteres\n",
    "    bestm = minm*step + startm\n",
    "    bestc = minc*step + startc\n",
    "    return bestm, bestc, minss"
   ]
  },
  {
   "cell_type": "code",
   "execution_count": 49,
   "metadata": {},
   "outputs": [],
   "source": [
    "bestm, bestc, minss= best_fit(x,y)"
   ]
  },
  {
   "cell_type": "markdown",
   "metadata": {},
   "source": [
    "Plotting the fitted line (orange) on the graph along with the mean of y line (green). \n",
    "\n",
    "We can clearly see the fitted line is a better fit.\n",
    "\n",
    "Next step is to calculate $R^2$."
   ]
  },
  {
   "cell_type": "code",
   "execution_count": 50,
   "metadata": {},
   "outputs": [
    {
     "data": {
      "image/png": "[encoded data removed]",
      "text/plain": [
       "<Figure size 432x288 with 1 Axes>"
      ]
     },
     "metadata": {
      "needs_background": "light"
     },
     "output_type": "display_data"
    }
   ],
   "source": [
    "plt.plot(x,y, 'o', )\n",
    "plt.xlim([-1,10])\n",
    "plt.ylim([0,50])\n",
    "abline(bestm,bestc) #orange\n",
    "abline(0, sum(y)/len(y)) #green"
   ]
  },
  {
   "cell_type": "markdown",
   "metadata": {},
   "source": [
    "# Calculating $R^2$\n",
    "    \n",
    " $$R^2=\\frac{Var(mean) - Var(fit)}{Var(mean)}$$\n",
    "\n",
    "where mean = mean of y (green line), fit = best fitted line (orange line)\n",
    "\n"
   ]
  },
  {
   "cell_type": "code",
   "execution_count": 51,
   "metadata": {},
   "outputs": [
    {
     "name": "stdout",
     "output_type": "stream",
     "text": [
      "R-squared: 0.8441\n",
      "This means that x can explain 84.41% of the variation in y\n"
     ]
    }
   ],
   "source": [
    "ymean = sum(y)/len(y)\n",
    "varmean = sum([(i-ymean)**2 for i in y])/len(y)\n",
    "varfit = minss/len(y)\n",
    "R2 = (varmean-varfit)/varmean\n",
    "print(f'R-squared: {R2:.4f}')\n",
    "print(f'This means that x can explain {R2*100:.2f}% of the variation in y')"
   ]
  },
  {
   "cell_type": "markdown",
   "metadata": {},
   "source": [
    "# Calculating p-value\n",
    "\n",
    "This is the equation for F\n",
    "\n",
    "$$F = \\frac{\\frac{SS(mean)-SS(fit)}{(p{_{fit}} - p{_{mean}})}}{\\frac{SS(fit)}{(n-p{_{fit}})}}$$\n",
    "\n",
    "\n",
    "It essentially calculates the variation explained by the fit over the variation not explained by the fit, taking degrees of freedom into account\n",
    "\n",
    "\n",
    "We have our F value now. The next step will be to either construct an F histogram or consult the F-table.\n",
    "\n",
    "To save time, we are just going to use scipy for F values."
   ]
  },
  {
   "cell_type": "code",
   "execution_count": 52,
   "metadata": {},
   "outputs": [
    {
     "name": "stdout",
     "output_type": "stream",
     "text": [
      "F-value: 43.32432432432405\n",
      "Fcrit: 0.49898204652384914\n",
      "Since F is larger than Fcrit, this regression has a p-value < 0.05\n"
     ]
    }
   ],
   "source": [
    "dfn = 2-1\n",
    "dfd = len(y) - 2\n",
    "F = ((varmean - varfit)/dfn)/(varfit/dfd)\n",
    "\n",
    "Fcrit = scipy.stats.f.ppf(1-0.5, dfn, dfd)\n",
    "print(f'F-value: {F}')\n",
    "print(f'Fcrit: {Fcrit}')\n",
    "if F > Fcrit:\n",
    "    print('Since F is larger than Fcrit, this regression has a p-value < 0.05')\n",
    "else:\n",
    "    print('Since F is not larger than Fcrit, this regression has a p-value > 0.05')"
   ]
  },
  {
   "cell_type": "markdown",
   "metadata": {},
   "source": []
  },
  {
   "cell_type": "code",
   "execution_count": null,
   "metadata": {},
   "outputs": [],
   "source": []
  }
 ],
 "metadata": {
  "kernelspec": {
   "display_name": "Python 3",
   "language": "python",
   "name": "python3"
  },
  "language_info": {
   "codemirror_mode": {
    "name": "ipython",
    "version": 3
   },
   "file_extension": ".py",
   "mimetype": "text/x-python",
   "name": "python",
   "nbconvert_exporter": "python",
   "pygments_lexer": "ipython3",
   "version": "3.7.3"
  }
 },
 "nbformat": 4,
 "nbformat_minor": 2
}
