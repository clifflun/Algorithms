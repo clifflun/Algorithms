{
 "cells": [
  {
   "cell_type": "code",
   "execution_count": 80,
   "metadata": {},
   "outputs": [],
   "source": [
    "import random\n",
    "import numpy as np"
   ]
  },
  {
   "cell_type": "code",
   "execution_count": 175,
   "metadata": {},
   "outputs": [],
   "source": [
    "def merge(arr: list):\n",
    "    p = 0\n",
    "    q = len(arr)//2\n",
    "    r = len(arr)\n",
    "    L = arr[p:q]\n",
    "    R = arr[q:r]\n",
    "#     L.sort()\n",
    "#     R.sort()\n",
    "    i=0   \n",
    "    j=0\n",
    "    k=0\n",
    "    while i<len(L) and j<len(R):\n",
    "        if L[i] < R[j]:\n",
    "            arr[k] = L[i]\n",
    "            i+=1\n",
    "        else:\n",
    "            arr[k] = R[j]\n",
    "            j+=1\n",
    "        k+=1\n",
    "        \n",
    "    ##put back what is left in either L or R\n",
    "    while i<len(L):\n",
    "        arr[k] = L[i]\n",
    "        i+=1\n",
    "        k+=1\n",
    "    while j<len(R):\n",
    "        arr[k] = R[j]\n",
    "        j+=1\n",
    "        k+=1"
   ]
  },
  {
   "cell_type": "code",
   "execution_count": 177,
   "metadata": {},
   "outputs": [],
   "source": [
    "def merge_sort(arr: list):\n",
    "    if len(arr) > 1:\n",
    "        merge_sort(arr[:len(arr)//2])\n",
    "        merge_sort(arr[len(arr)//2:])\n",
    "        merge(arr)"
   ]
  },
  {
   "cell_type": "code",
   "execution_count": 188,
   "metadata": {},
   "outputs": [
    {
     "name": "stdout",
     "output_type": "stream",
     "text": [
      "[71, 65, 36, 95, 17, 8, 32, 73, 81, 58, 50, 51, 53, 52, 30, 6, 19, 10, 48, 94, 82, 9, 49, 59, 69, 98, 74, 0, 66, 80]\n",
      "[0, 6, 8, 9, 10, 17, 19, 30, 32, 36, 48, 49, 50, 51, 52, 53, 58, 59, 65, 66, 69, 71, 73, 74, 80, 81, 82, 94, 95, 98]\n"
     ]
    }
   ],
   "source": [
    "n = random.sample(range(100), 30)\n",
    "print(n)\n",
    "merge_sort(n)\n",
    "print(n)"
   ]
  },
  {
   "cell_type": "code",
   "execution_count": null,
   "metadata": {},
   "outputs": [],
   "source": []
  },
  {
   "cell_type": "code",
   "execution_count": null,
   "metadata": {},
   "outputs": [],
   "source": []
  }
 ],
 "metadata": {
  "kernelspec": {
   "display_name": "Python 3",
   "language": "python",
   "name": "python3"
  },
  "language_info": {
   "codemirror_mode": {
    "name": "ipython",
    "version": 3
   },
   "file_extension": ".py",
   "mimetype": "text/x-python",
   "name": "python",
   "nbconvert_exporter": "python",
   "pygments_lexer": "ipython3",
   "version": "3.7.3"
  }
 },
 "nbformat": 4,
 "nbformat_minor": 2
}
