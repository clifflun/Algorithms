{
 "cells": [
  {
   "cell_type": "code",
   "execution_count": 206,
   "metadata": {},
   "outputs": [],
   "source": [
    "import random"
   ]
  },
  {
   "cell_type": "markdown",
   "metadata": {},
   "source": [
    "This is just a demonstration of how to implement heap sort for max heaps in an array.\n",
    "\n",
    "This is not the best way to implement it.\n",
    "\n",
    "heapify O(n)\n",
    "\n",
    "deletion O(nlgn)\n",
    "\n",
    "insertion O(nlgn)"
   ]
  },
  {
   "cell_type": "code",
   "execution_count": 207,
   "metadata": {},
   "outputs": [],
   "source": [
    "def heapify(arr): \n",
    "    for i in reversed(range(len(arr))):\n",
    "        if (i+1)*2 > len(arr): \n",
    "            continue\n",
    "        if (i+1)*2+1 > len(arr): \n",
    "            continue\n",
    "        else:\n",
    "#             print(i+1, arr[i])\n",
    "            left = arr[(i+1)*2-1]\n",
    "            right = arr[(i+1)*2]\n",
    "#             print(left, right)\n",
    "            if arr[i] < max(left, right):\n",
    "                if right > left: \n",
    "                    arr[(i+1)*2] = arr[i]\n",
    "                    arr[i] = right\n",
    "                    if (i+1)*2 < len(arr):\n",
    "                        heapify(arr)\n",
    "                else:\n",
    "                    arr[(i+1)*2-1] = arr[i]\n",
    "                    arr[i] = left\n",
    "                    if (i+1)*2-1 < len(arr):\n",
    "                        heapify(arr)"
   ]
  },
  {
   "cell_type": "code",
   "execution_count": 208,
   "metadata": {},
   "outputs": [],
   "source": [
    "def check_heap(arr):\n",
    "    for i in range(len(arr)):\n",
    "        if (i+1)*2 > len(arr): \n",
    "            continue\n",
    "        left = arr[(i+1)*2-1]\n",
    "        right = arr[(i+1)*2]\n",
    "        if arr[i] < left or arr[i] < right:\n",
    "            return False\n",
    "    return True"
   ]
  },
  {
   "cell_type": "code",
   "execution_count": 209,
   "metadata": {},
   "outputs": [],
   "source": [
    "def heap_sort(arr):\n",
    "    i = len(arr)\n",
    "    tmp = []\n",
    "    while i>0:\n",
    "        arr[0], arr[i-1] = arr[i-1], arr[0]\n",
    "        tmp.append(arr.pop())\n",
    "        heapify(arr)\n",
    "        i-=1\n",
    "    return tmp[::-1]"
   ]
  },
  {
   "cell_type": "code",
   "execution_count": 210,
   "metadata": {},
   "outputs": [
    {
     "name": "stdout",
     "output_type": "stream",
     "text": [
      "before:  [5, 20, 15, 30, 40, 10, 25]\n",
      "after:  [40, 30, 25, 5, 20, 10, 15]\n"
     ]
    }
   ],
   "source": [
    "# n = random.sample(range(100), 15)\n",
    "n= [5,20,15,30,40,10,25]\n",
    "print(\"before: \",n)\n",
    "heapify(n)\n",
    "print(\"after: \", n)"
   ]
  },
  {
   "cell_type": "code",
   "execution_count": 211,
   "metadata": {},
   "outputs": [
    {
     "data": {
      "text/plain": [
       "True"
      ]
     },
     "execution_count": 211,
     "metadata": {},
     "output_type": "execute_result"
    }
   ],
   "source": [
    "check_heap(n)"
   ]
  },
  {
   "cell_type": "code",
   "execution_count": 212,
   "metadata": {},
   "outputs": [
    {
     "name": "stdout",
     "output_type": "stream",
     "text": [
      "heap:  [40, 30, 25, 5, 20, 10, 15]\n",
      "sorted:  [5, 10, 15, 20, 25, 30, 40]\n"
     ]
    }
   ],
   "source": [
    "print(\"heap: \", n)\n",
    "x = heap_sort(n)\n",
    "print(\"sorted: \", x)"
   ]
  },
  {
   "cell_type": "code",
   "execution_count": null,
   "metadata": {},
   "outputs": [],
   "source": []
  },
  {
   "cell_type": "code",
   "execution_count": null,
   "metadata": {},
   "outputs": [],
   "source": []
  }
 ],
 "metadata": {
  "kernelspec": {
   "display_name": "Python 3",
   "language": "python",
   "name": "python3"
  },
  "language_info": {
   "codemirror_mode": {
    "name": "ipython",
    "version": 3
   },
   "file_extension": ".py",
   "mimetype": "text/x-python",
   "name": "python",
   "nbconvert_exporter": "python",
   "pygments_lexer": "ipython3",
   "version": "3.7.3"
  }
 },
 "nbformat": 4,
 "nbformat_minor": 2
}
