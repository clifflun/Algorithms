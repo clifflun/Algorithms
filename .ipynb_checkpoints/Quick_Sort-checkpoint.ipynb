{
 "cells": [
  {
   "cell_type": "code",
   "execution_count": 198,
   "metadata": {},
   "outputs": [],
   "source": [
    "import random"
   ]
  },
  {
   "cell_type": "code",
   "execution_count": 193,
   "metadata": {},
   "outputs": [],
   "source": [
    "def partition(arr, l, h):\n",
    "    pivot = arr[l]\n",
    "    i=l+1\n",
    "    j=h\n",
    "\n",
    "    while i<j:\n",
    "        while i<h and arr[i] <= pivot: \n",
    "            i+=1\n",
    "        while j>l and arr[j] >= pivot: \n",
    "            j-=1\n",
    "        if i<j:\n",
    "            arr[i],arr[j] = arr[j], arr[i]\n",
    "\n",
    "    arr[l], arr[j] = arr[j], arr[l]\n",
    "    return j"
   ]
  },
  {
   "cell_type": "code",
   "execution_count": 194,
   "metadata": {},
   "outputs": [],
   "source": [
    "def quick_sort(arr, l, h):\n",
    "    if l<h:\n",
    "        q = partition(arr, l, h)\n",
    "        quick_sort(arr, l,q-1)\n",
    "        quick_sort(arr, q+1, h)"
   ]
  },
  {
   "cell_type": "code",
   "execution_count": 222,
   "metadata": {},
   "outputs": [
    {
     "name": "stdout",
     "output_type": "stream",
     "text": [
      "before:  [20, 72, 76, 41, 1, 2, 77, 13, 85, 74, 24, 53, 29, 47, 99, 15, 31, 39, 16, 11]\n",
      "after:  [1, 2, 11, 13, 16, 15, 20, 24, 29, 31, 39, 41, 47, 53, 74, 72, 76, 77, 85, 99]\n"
     ]
    }
   ],
   "source": [
    "n = random.sample(range(100), 20)\n",
    "print(\"before: \", n)\n",
    "quick_sort(n, 0, len(n)-1)\n",
    "print(\"after: \", n)"
   ]
  },
  {
   "cell_type": "code",
   "execution_count": null,
   "metadata": {},
   "outputs": [],
   "source": []
  },
  {
   "cell_type": "code",
   "execution_count": null,
   "metadata": {},
   "outputs": [],
   "source": []
  }
 ],
 "metadata": {
  "kernelspec": {
   "display_name": "Python 3",
   "language": "python",
   "name": "python3"
  },
  "language_info": {
   "codemirror_mode": {
    "name": "ipython",
    "version": 3
   },
   "file_extension": ".py",
   "mimetype": "text/x-python",
   "name": "python",
   "nbconvert_exporter": "python",
   "pygments_lexer": "ipython3",
   "version": "3.7.3"
  }
 },
 "nbformat": 4,
 "nbformat_minor": 2
}
