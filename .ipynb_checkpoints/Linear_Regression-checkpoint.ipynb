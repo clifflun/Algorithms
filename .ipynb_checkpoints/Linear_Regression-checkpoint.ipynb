{
 "cells": [
  {
   "cell_type": "code",
   "execution_count": 1,
   "metadata": {},
   "outputs": [],
   "source": [
    "import random\n",
    "import matplotlib.pyplot as plt\n",
    "import numpy as np"
   ]
  },
  {
   "cell_type": "markdown",
   "metadata": {},
   "source": [
    "# Initializing random dataset"
   ]
  },
  {
   "cell_type": "code",
   "execution_count": 84,
   "metadata": {},
   "outputs": [],
   "source": [
    "x = [i for i in range(10)]\n",
    "y = [14, 24, 15, 18, 31, 26, 36, 32, 33, 37]\n",
    "# y = random.sample(range(50),10)"
   ]
  },
  {
   "cell_type": "markdown",
   "metadata": {},
   "source": [
    "# Adding abline function to make life easier"
   ]
  },
  {
   "cell_type": "code",
   "execution_count": 85,
   "metadata": {},
   "outputs": [],
   "source": [
    "def abline(slope, intercept):\n",
    "    axes = plt.gca()\n",
    "    x_vals = np.array(axes.get_xlim())\n",
    "    y_vals = intercept + slope * x_vals\n",
    "    plt.plot(x_vals, y_vals, '--')"
   ]
  },
  {
   "cell_type": "markdown",
   "metadata": {},
   "source": [
    "Plotting the data to see if a linear relationship is observed\n"
   ]
  },
  {
   "cell_type": "code",
   "execution_count": 86,
   "metadata": {},
   "outputs": [
    {
     "data": {
      "text/plain": [
       "(0.0, 50.0)"
      ]
     },
     "execution_count": 86,
     "metadata": {},
     "output_type": "execute_result"
    },
    {
     "data": {
      "image/png": "[encoded data removed]",
      "text/plain": [
       "<Figure size 432x288 with 1 Axes>"
      ]
     },
     "metadata": {
      "needs_background": "light"
     },
     "output_type": "display_data"
    }
   ],
   "source": [
    "plt.plot(x,y, 'o', )\n",
    "plt.xlim([-1,10])\n",
    "plt.ylim([0,50])"
   ]
  },
  {
   "cell_type": "markdown",
   "metadata": {},
   "source": [
    "We can see the linear relationship. The next step will be to calculate sum of least squares off different slope and y-intercepts of the following equation:\n",
    "\n",
    "y=mx+c\n",
    "\n",
    "where m=slope, c=y-int"
   ]
  },
  {
   "cell_type": "code",
   "execution_count": 87,
   "metadata": {},
   "outputs": [],
   "source": [
    "##This is the simplest way to get the best fit line\n",
    "##It calculates all the possible pairs of slope and intercept and find the least sum of square\n",
    "##A smarter implementation will be gradient descent, but that is another task for another time.\n",
    "\n",
    "def best_fit(x:list,y:list, startc:int = -20, startm:int = -20, step:float = 0.1):\n",
    "    \n",
    "    ##populating the least SS matrix\n",
    "    residuals = []\n",
    "    for m in np.arange(startm,startm*-1,step):\n",
    "        cres=[]\n",
    "        for c in np.arange(startc,startc*-1,step):       \n",
    "            ss=[]\n",
    "            for i,j in zip(x,y):\n",
    "                yval = m*i+c\n",
    "                dis = (j - yval)**2\n",
    "                ss.append(dis)\n",
    "            cres.append(sum(ss))\n",
    "        residuals.append(cres)\n",
    "    \n",
    "    ##using numpy to find Least SS\n",
    "    res = np.array(residuals)\n",
    "    minm = np.where(res == np.min(res))[0][0]\n",
    "    minc = np.where(res == np.min(res))[1][0]\n",
    "    minss = np.min(res)\n",
    "    ## best fit line parameteres\n",
    "    bestm = minm*step + startm\n",
    "    bestc = minc*step + startc\n",
    "    return bestm, bestc, minss"
   ]
  },
  {
   "cell_type": "code",
   "execution_count": 88,
   "metadata": {},
   "outputs": [],
   "source": [
    "bestm, bestc, minss= best_fit(x,y)"
   ]
  },
  {
   "cell_type": "markdown",
   "metadata": {},
   "source": [
    "Plotting the fitted line (orange) on the graph along with the mean of y line (green). \n",
    "\n",
    "We can clearly see the fitted line is a better fit.\n",
    "\n",
    "Next step is to calculate R squared."
   ]
  },
  {
   "cell_type": "code",
   "execution_count": 89,
   "metadata": {},
   "outputs": [
    {
     "data": {
      "image/png": "[encoded data removed]",
      "text/plain": [
       "<Figure size 432x288 with 1 Axes>"
      ]
     },
     "metadata": {
      "needs_background": "light"
     },
     "output_type": "display_data"
    }
   ],
   "source": [
    "plt.plot(x,y, 'o', )\n",
    "plt.xlim([-1,10])\n",
    "plt.ylim([0,50])\n",
    "abline(bestm,bestc) #orange\n",
    "abline(0, sum(y)/len(y)) #green"
   ]
  },
  {
   "cell_type": "markdown",
   "metadata": {},
   "source": [
    "# Calculating R<sup>2</sup>\n",
    "    \n",
    "R<sup>2</sup> = (Var(mean) - Var(fit))/ Var(mean)\n",
    "\n",
    "where mean = mean of y (green line), fit = best fitted line (orange line)\n",
    "\n"
   ]
  },
  {
   "cell_type": "code",
   "execution_count": 98,
   "metadata": {},
   "outputs": [
    {
     "name": "stdout",
     "output_type": "stream",
     "text": [
      "R-squared: 0.7486\n",
      "This means that x can explain 74.86% of the variation in y\n"
     ]
    }
   ],
   "source": [
    "ymean = sum(y)/len(y)\n",
    "varmean = sum([(i-ymean)**2 for i in y])/len(y)\n",
    "varfit = minss/len(y)\n",
    "R2 = (varmean-varfit)/varmean\n",
    "print(f'R-squared: {R2:.4f}')\n",
    "print(f'This means that x can explain {R2*100:.2f}% of the variation in y')"
   ]
  },
  {
   "cell_type": "markdown",
   "metadata": {},
   "source": [
    "# Calculating p-value\n",
    "\n",
    "This is the equation for F\n",
    "\n",
    "F = SS(mean)-SS(fit)/(p<sub>fit</sub> - p<sub>mean</sub>)/   SS(fit)/(n-p<sub>fit</sub>)\n",
    "\n",
    "It essentially calculates the variation explained by the fit over the variation not explained by the fit, taking degrees of freedom into account"
   ]
  },
  {
   "cell_type": "code",
   "execution_count": 107,
   "metadata": {},
   "outputs": [],
   "source": [
    "def get_F(x,y, minss):\n",
    "    ymean = sum(y)/len(y)\n",
    "    ssmean = sum([(i-ymean)**2 for i in y])\n",
    "    ssfit = minss\n",
    "    pfit = 2\n",
    "    pmean = 1\n",
    "    n = len(y)\n",
    "    F= ((ssmean-ssfit)/(pfit-pmean))/(ssfit/(n-pfit))\n",
    "    return F"
   ]
  },
  {
   "cell_type": "markdown",
   "metadata": {},
   "source": [
    "We have our F value now. The next step will be to either construct an F histogram or consult the F-table. Since we are reviewing the underlying concepts here, I will try to build a histogram.\n",
    "\n",
    "To do so, we just need to use many random datasets and obtain their F-value, and plot a histogram.\n",
    "\n",
    "Then we get the p-value by using this formula:\n",
    "\n",
    "no. of occurences larger than experimental F/ no. of occurences smaller than experimental F"
   ]
  },
  {
   "cell_type": "code",
   "execution_count": 115,
   "metadata": {
    "scrolled": true
   },
   "outputs": [
    {
     "name": "stdout",
     "output_type": "stream",
     "text": [
      "0\n",
      "0.01346433770014821\n",
      "1\n",
      "5.57331090552285\n",
      "2\n",
      "-1.0277158014772743\n",
      "3\n",
      "0.030293663060291475\n",
      "4\n",
      "2.935413416536655\n",
      "5\n",
      "-0.1563497864809666\n",
      "6\n",
      "0.7312727554419906\n",
      "7\n"
     ]
    },
    {
     "ename": "KeyboardInterrupt",
     "evalue": "",
     "output_type": "error",
     "traceback": [
      "\u001b[0;31m---------------------------------------------------------------------------\u001b[0m",
      "\u001b[0;31mKeyboardInterrupt\u001b[0m                         Traceback (most recent call last)",
      "\u001b[0;32m<ipython-input-115-3871b65490f6>\u001b[0m in \u001b[0;36m<module>\u001b[0;34m\u001b[0m\n\u001b[1;32m      4\u001b[0m     \u001b[0mx\u001b[0m \u001b[0;34m=\u001b[0m \u001b[0;34m[\u001b[0m\u001b[0mi\u001b[0m \u001b[0;32mfor\u001b[0m \u001b[0mi\u001b[0m \u001b[0;32min\u001b[0m \u001b[0mrange\u001b[0m\u001b[0;34m(\u001b[0m\u001b[0;36m10\u001b[0m\u001b[0;34m)\u001b[0m\u001b[0;34m]\u001b[0m\u001b[0;34m\u001b[0m\u001b[0;34m\u001b[0m\u001b[0m\n\u001b[1;32m      5\u001b[0m     \u001b[0my\u001b[0m \u001b[0;34m=\u001b[0m \u001b[0mrandom\u001b[0m\u001b[0;34m.\u001b[0m\u001b[0msample\u001b[0m\u001b[0;34m(\u001b[0m\u001b[0mrange\u001b[0m\u001b[0;34m(\u001b[0m\u001b[0;36m50\u001b[0m\u001b[0;34m)\u001b[0m\u001b[0;34m,\u001b[0m\u001b[0;36m10\u001b[0m\u001b[0;34m)\u001b[0m\u001b[0;34m\u001b[0m\u001b[0;34m\u001b[0m\u001b[0m\n\u001b[0;32m----> 6\u001b[0;31m     \u001b[0ma\u001b[0m\u001b[0;34m,\u001b[0m\u001b[0mb\u001b[0m\u001b[0;34m,\u001b[0m\u001b[0mminss\u001b[0m \u001b[0;34m=\u001b[0m \u001b[0mbest_fit\u001b[0m\u001b[0;34m(\u001b[0m\u001b[0mx\u001b[0m\u001b[0;34m,\u001b[0m\u001b[0my\u001b[0m\u001b[0;34m)\u001b[0m\u001b[0;34m\u001b[0m\u001b[0;34m\u001b[0m\u001b[0m\n\u001b[0m\u001b[1;32m      7\u001b[0m     \u001b[0mf\u001b[0m \u001b[0;34m=\u001b[0m \u001b[0mget_F\u001b[0m\u001b[0;34m(\u001b[0m\u001b[0mx\u001b[0m\u001b[0;34m,\u001b[0m\u001b[0my\u001b[0m\u001b[0;34m,\u001b[0m\u001b[0mminss\u001b[0m\u001b[0;34m)\u001b[0m\u001b[0;34m\u001b[0m\u001b[0;34m\u001b[0m\u001b[0m\n\u001b[1;32m      8\u001b[0m     \u001b[0mprint\u001b[0m\u001b[0;34m(\u001b[0m\u001b[0mf\u001b[0m\u001b[0;34m)\u001b[0m\u001b[0;34m\u001b[0m\u001b[0;34m\u001b[0m\u001b[0m\n",
      "\u001b[0;32m<ipython-input-87-b84c1df36d70>\u001b[0m in \u001b[0;36mbest_fit\u001b[0;34m(x, y, startc, startm, step)\u001b[0m\n\u001b[1;32m     12\u001b[0m             \u001b[0mss\u001b[0m\u001b[0;34m=\u001b[0m\u001b[0;34m[\u001b[0m\u001b[0;34m]\u001b[0m\u001b[0;34m\u001b[0m\u001b[0;34m\u001b[0m\u001b[0m\n\u001b[1;32m     13\u001b[0m             \u001b[0;32mfor\u001b[0m \u001b[0mi\u001b[0m\u001b[0;34m,\u001b[0m\u001b[0mj\u001b[0m \u001b[0;32min\u001b[0m \u001b[0mzip\u001b[0m\u001b[0;34m(\u001b[0m\u001b[0mx\u001b[0m\u001b[0;34m,\u001b[0m\u001b[0my\u001b[0m\u001b[0;34m)\u001b[0m\u001b[0;34m:\u001b[0m\u001b[0;34m\u001b[0m\u001b[0;34m\u001b[0m\u001b[0m\n\u001b[0;32m---> 14\u001b[0;31m                 \u001b[0myval\u001b[0m \u001b[0;34m=\u001b[0m \u001b[0mm\u001b[0m\u001b[0;34m*\u001b[0m\u001b[0mi\u001b[0m\u001b[0;34m+\u001b[0m\u001b[0mc\u001b[0m\u001b[0;34m\u001b[0m\u001b[0;34m\u001b[0m\u001b[0m\n\u001b[0m\u001b[1;32m     15\u001b[0m                 \u001b[0mdis\u001b[0m \u001b[0;34m=\u001b[0m \u001b[0;34m(\u001b[0m\u001b[0mj\u001b[0m \u001b[0;34m-\u001b[0m \u001b[0myval\u001b[0m\u001b[0;34m)\u001b[0m\u001b[0;34m**\u001b[0m\u001b[0;36m2\u001b[0m\u001b[0;34m\u001b[0m\u001b[0;34m\u001b[0m\u001b[0m\n\u001b[1;32m     16\u001b[0m                 \u001b[0mss\u001b[0m\u001b[0;34m.\u001b[0m\u001b[0mappend\u001b[0m\u001b[0;34m(\u001b[0m\u001b[0mdis\u001b[0m\u001b[0;34m)\u001b[0m\u001b[0;34m\u001b[0m\u001b[0;34m\u001b[0m\u001b[0m\n",
      "\u001b[0;31mKeyboardInterrupt\u001b[0m: "
     ]
    }
   ],
   "source": [
    "F_values=[]\n",
    "for k in range(1000):\n",
    "    x = [i for i in range(10)]\n",
    "    y = random.sample(range(50),10)\n",
    "    a,b,minss = best_fit(x,y)\n",
    "    f = get_F(x,y,minss)\n",
    "    print(f)\n",
    "    F_values.append(f)"
   ]
  },
  {
   "cell_type": "code",
   "execution_count": null,
   "metadata": {},
   "outputs": [],
   "source": []
  }
 ],
 "metadata": {
  "kernelspec": {
   "display_name": "Python 3",
   "language": "python",
   "name": "python3"
  },
  "language_info": {
   "codemirror_mode": {
    "name": "ipython",
    "version": 3
   },
   "file_extension": ".py",
   "mimetype": "text/x-python",
   "name": "python",
   "nbconvert_exporter": "python",
   "pygments_lexer": "ipython3",
   "version": "3.7.3"
  }
 },
 "nbformat": 4,
 "nbformat_minor": 2
}
