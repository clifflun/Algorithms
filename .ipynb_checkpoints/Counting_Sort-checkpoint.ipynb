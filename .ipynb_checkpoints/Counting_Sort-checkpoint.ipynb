{
 "cells": [
  {
   "cell_type": "code",
   "execution_count": 59,
   "metadata": {},
   "outputs": [],
   "source": [
    "import random\n",
    "import numpy as np"
   ]
  },
  {
   "cell_type": "code",
   "execution_count": 63,
   "metadata": {},
   "outputs": [],
   "source": [
    "def counting_sort(arr):\n",
    "    ## counting elements\n",
    "    dic ={}\n",
    "    for a in arr:\n",
    "        dic[a] = dic.get(a, 0) +1\n",
    "    keys = sorted(dic.keys())\n",
    "    \n",
    "    ## count manipulations\n",
    "    tmp = []\n",
    "    for k in keys:\n",
    "        tmp.append(dic[k])\n",
    "    for i in range(1, len(tmp)):\n",
    "        tmp[i] = tmp[i-1]+tmp[i]\n",
    "    tmp.pop()\n",
    "    tmp.reverse()\n",
    "    tmp.append(0)\n",
    "    tmp.reverse()\n",
    "    \n",
    "    ## repopulate dic with starting\n",
    "    for k,t in zip(keys,tmp):\n",
    "        dic[k] = t\n",
    "    \n",
    "    ## populate new array and increment index\n",
    "    _sorted = [0]*len(arr)\n",
    "    for a in arr:\n",
    "        _sorted[dic[a]] = a\n",
    "        dic[a] = dic.get(a)+1\n",
    "    return(_sorted)"
   ]
  },
  {
   "cell_type": "code",
   "execution_count": 78,
   "metadata": {},
   "outputs": [],
   "source": [
    "n = np.random.choice(10, 30, replace = True)"
   ]
  },
  {
   "cell_type": "code",
   "execution_count": 79,
   "metadata": {},
   "outputs": [
    {
     "name": "stdout",
     "output_type": "stream",
     "text": [
      "before:  [4 6 0 9 6 2 6 4 1 8 7 7 1 7 5 8 0 0 3 5 5 4 2 3 9 0 4 6 9 5]\n",
      "after:  [0, 0, 0, 0, 1, 1, 2, 2, 3, 3, 4, 4, 4, 4, 5, 5, 5, 5, 6, 6, 6, 6, 7, 7, 7, 8, 8, 9, 9, 9]\n"
     ]
    }
   ],
   "source": [
    "out = counting_sort(n)\n",
    "print(\"before: \", n)\n",
    "print(\"after: \", out)"
   ]
  },
  {
   "cell_type": "code",
   "execution_count": null,
   "metadata": {},
   "outputs": [],
   "source": []
  },
  {
   "cell_type": "code",
   "execution_count": null,
   "metadata": {},
   "outputs": [],
   "source": []
  }
 ],
 "metadata": {
  "kernelspec": {
   "display_name": "Python 3",
   "language": "python",
   "name": "python3"
  },
  "language_info": {
   "codemirror_mode": {
    "name": "ipython",
    "version": 3
   },
   "file_extension": ".py",
   "mimetype": "text/x-python",
   "name": "python",
   "nbconvert_exporter": "python",
   "pygments_lexer": "ipython3",
   "version": "3.7.3"
  }
 },
 "nbformat": 4,
 "nbformat_minor": 2
}
